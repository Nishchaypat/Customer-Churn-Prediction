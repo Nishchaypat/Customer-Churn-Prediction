{
 "cells": [
  {
   "cell_type": "markdown",
   "metadata": {},
   "source": [
    "The telecommunications sector in India is rapidly evolving, with many businesses being created and customers frequently switching between providers. **Churn** refers to the process where customers stop using a company's services or products. It is a key challenge for telecom companies to predict and minimize customer churn, as retaining customers is critical to business growth.\n",
    "\n",
    "As a data scientist for a telecom company, your task is to **predict customer churn** using demographic and usage data from four major telecom partners: *Airtel, Reliance Jio, Vodafone, and BSNL*. You will explore the key factors contributing to customer churn and build predictive models to help the company reduce churn rates.\n",
    "\n",
    "The dataset contains two csv-files:\n",
    "\n",
    "- `telecom_demographics.csv` contains information related to Indian customer demographics:\n",
    "\n",
    "| Variable             | Description                                      |\n",
    "|----------------------|--------------------------------------------------|\n",
    "| `customer_id `         | Unique identifier for each customer.             |\n",
    "| `telecom_partner `     | The telecom partner associated with the customer.|\n",
    "| `gender `              | The gender of the customer.                      |\n",
    "| `age `                 | The age of the customer.                         |\n",
    "| `state`                | The Indian state in which the customer is located.|\n",
    "| `city`                 | The city in which the customer is located.       |\n",
    "| `pincode`              | The pincode of the customer's location.          |\n",
    "| `registration_event` | When the customer registered with the telecom partner.|\n",
    "| `num_dependents`      | The number of dependents (e.g., children) the customer has.|\n",
    "| `estimated_salary`     | The customer's estimated salary.                 |\n",
    "\n",
    "- `telecom_usage` contains information about the usage patterns of Indian customers:\n",
    "\n",
    "| Variable   | Description                                                  |\n",
    "|------------|--------------------------------------------------------------|\n",
    "| `customer_id` | Unique identifier for each customer.                         |\n",
    "| `calls_made` | The number of calls made by the customer.                    |\n",
    "| `sms_sent`   | The number of SMS messages sent by the customer.             |\n",
    "| `data_used`  | The amount of data used by the customer.                     |\n",
    "| `churn`    | Binary variable indicating whether the customer has churned or not (1 = churned, 0 = not churned).|\n"
   ]
  },
  {
   "cell_type": "code",
   "execution_count": 14,
   "metadata": {},
   "outputs": [],
   "source": [
    "# Useful libraries\n",
    "import pandas as pd\n",
    "import matplotlib.pyplot as plt\n",
    "\n",
    "from sklearn.model_selection import train_test_split\n",
    "from sklearn.preprocessing import StandardScaler, OneHotEncoder, OrdinalEncoder\n",
    "from sklearn.compose import ColumnTransformer\n",
    "\n",
    "from sklearn.tree import DecisionTreeClassifier\n",
    "from sklearn.ensemble import RandomForestClassifier\n",
    "\n",
    "from sklearn.metrics import accuracy_score\n",
    "from sklearn import tree\n",
    "import seaborn as sns"
   ]
  },
  {
   "cell_type": "markdown",
   "metadata": {},
   "source": [
    "Objective:\n",
    "\n",
    "The goal of this project is to predict customer churn in the Indian tele-\n",
    "com sector using demographic and usage data. You will explore data\n",
    "science techniques to build predictive models and determine which fac-\n",
    "tors are most influential in customer churn. Additionally, you will com-\n",
    "pare the performance of two encoding methods – OneHotEncoder and\n",
    "OrdinalEncoder – and evaluate their effect on model performance."
   ]
  },
  {
   "cell_type": "code",
   "execution_count": 3,
   "metadata": {},
   "outputs": [],
   "source": [
    "demo = pd.read_csv('telecom_demographics.csv')\n",
    "usage = pd.read_csv('telecom_usage.csv')"
   ]
  },
  {
   "cell_type": "markdown",
   "metadata": {},
   "source": [
    "Basic Analysis"
   ]
  },
  {
   "cell_type": "code",
   "execution_count": 6,
   "metadata": {},
   "outputs": [
    {
     "data": {
      "text/plain": [
       "customer_id           0\n",
       "telecom_partner       0\n",
       "gender                0\n",
       "age                   0\n",
       "state                 0\n",
       "city                  0\n",
       "pincode               0\n",
       "registration_event    0\n",
       "num_dependents        0\n",
       "estimated_salary      0\n",
       "dtype: int64"
      ]
     },
     "execution_count": 6,
     "metadata": {},
     "output_type": "execute_result"
    }
   ],
   "source": [
    "demo.isnull().sum()"
   ]
  },
  {
   "cell_type": "code",
   "execution_count": 7,
   "metadata": {},
   "outputs": [
    {
     "data": {
      "text/plain": [
       "customer_id    0\n",
       "calls_made     0\n",
       "sms_sent       0\n",
       "data_used      0\n",
       "churn          0\n",
       "dtype: int64"
      ]
     },
     "execution_count": 7,
     "metadata": {},
     "output_type": "execute_result"
    }
   ],
   "source": [
    "usage.isnull().sum()"
   ]
  },
  {
   "cell_type": "code",
   "execution_count": 24,
   "metadata": {},
   "outputs": [],
   "source": [
    "combined = pd.merge(demo, usage, on='customer_id', how='inner')"
   ]
  },
  {
   "cell_type": "code",
   "execution_count": 25,
   "metadata": {},
   "outputs": [
    {
     "data": {
      "text/plain": [
       "customer_id           0\n",
       "telecom_partner       0\n",
       "gender                0\n",
       "age                   0\n",
       "state                 0\n",
       "city                  0\n",
       "pincode               0\n",
       "registration_event    0\n",
       "num_dependents        0\n",
       "estimated_salary      0\n",
       "calls_made            0\n",
       "sms_sent              0\n",
       "data_used             0\n",
       "churn                 0\n",
       "dtype: int64"
      ]
     },
     "execution_count": 25,
     "metadata": {},
     "output_type": "execute_result"
    }
   ],
   "source": [
    "combined.isnull().sum()"
   ]
  },
  {
   "cell_type": "code",
   "execution_count": 26,
   "metadata": {},
   "outputs": [],
   "source": [
    "combined = combined.drop(columns=['customer_id', 'pincode', 'registration_event'])"
   ]
  },
  {
   "cell_type": "code",
   "execution_count": 27,
   "metadata": {},
   "outputs": [
    {
     "data": {
      "text/html": [
       "<div>\n",
       "<style scoped>\n",
       "    .dataframe tbody tr th:only-of-type {\n",
       "        vertical-align: middle;\n",
       "    }\n",
       "\n",
       "    .dataframe tbody tr th {\n",
       "        vertical-align: top;\n",
       "    }\n",
       "\n",
       "    .dataframe thead th {\n",
       "        text-align: right;\n",
       "    }\n",
       "</style>\n",
       "<table border=\"1\" class=\"dataframe\">\n",
       "  <thead>\n",
       "    <tr style=\"text-align: right;\">\n",
       "      <th></th>\n",
       "      <th>telecom_partner</th>\n",
       "      <th>gender</th>\n",
       "      <th>age</th>\n",
       "      <th>state</th>\n",
       "      <th>city</th>\n",
       "      <th>num_dependents</th>\n",
       "      <th>estimated_salary</th>\n",
       "      <th>calls_made</th>\n",
       "      <th>sms_sent</th>\n",
       "      <th>data_used</th>\n",
       "      <th>churn</th>\n",
       "    </tr>\n",
       "  </thead>\n",
       "  <tbody>\n",
       "    <tr>\n",
       "      <th>3133</th>\n",
       "      <td>Reliance Jio</td>\n",
       "      <td>M</td>\n",
       "      <td>26</td>\n",
       "      <td>Mizoram</td>\n",
       "      <td>Delhi</td>\n",
       "      <td>2</td>\n",
       "      <td>110958</td>\n",
       "      <td>15</td>\n",
       "      <td>38</td>\n",
       "      <td>319</td>\n",
       "      <td>0</td>\n",
       "    </tr>\n",
       "  </tbody>\n",
       "</table>\n",
       "</div>"
      ],
      "text/plain": [
       "     telecom_partner gender  age    state   city  num_dependents  \\\n",
       "3133    Reliance Jio      M   26  Mizoram  Delhi               2   \n",
       "\n",
       "      estimated_salary  calls_made  sms_sent  data_used  churn  \n",
       "3133            110958          15        38        319      0  "
      ]
     },
     "execution_count": 27,
     "metadata": {},
     "output_type": "execute_result"
    }
   ],
   "source": [
    "combined.sample()"
   ]
  },
  {
   "cell_type": "code",
   "execution_count": 29,
   "metadata": {},
   "outputs": [
    {
     "data": {
      "text/plain": [
       "array(['Airtel', 'Reliance Jio', 'Vodafone', 'BSNL'], dtype=object)"
      ]
     },
     "execution_count": 29,
     "metadata": {},
     "output_type": "execute_result"
    }
   ],
   "source": [
    "combined['telecom_partner'].unique()"
   ]
  },
  {
   "cell_type": "code",
   "execution_count": 30,
   "metadata": {},
   "outputs": [
    {
     "data": {
      "text/plain": [
       "array(['F', 'M'], dtype=object)"
      ]
     },
     "execution_count": 30,
     "metadata": {},
     "output_type": "execute_result"
    }
   ],
   "source": [
    "combined['gender'].unique()"
   ]
  },
  {
   "cell_type": "code",
   "execution_count": null,
   "metadata": {},
   "outputs": [],
   "source": []
  }
 ],
 "metadata": {
  "kernelspec": {
   "display_name": "Machine-Learning",
   "language": "python",
   "name": "python3"
  },
  "language_info": {
   "codemirror_mode": {
    "name": "ipython",
    "version": 3
   },
   "file_extension": ".py",
   "mimetype": "text/x-python",
   "name": "python",
   "nbconvert_exporter": "python",
   "pygments_lexer": "ipython3",
   "version": "3.12.7"
  }
 },
 "nbformat": 4,
 "nbformat_minor": 2
}
